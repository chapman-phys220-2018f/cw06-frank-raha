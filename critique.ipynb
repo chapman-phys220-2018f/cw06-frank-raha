{
 "cells": [
  {
   "cell_type": "markdown",
   "metadata": {
    "collapsed": false
   },
   "source": [
    "### Critique of Raha's primes.py\n",
    "\n",
    "Organized although variables are not uniquely labeled and there are no comments. Other than this the code can be followed if I go through slowly and take my time at each step. Code could be improved if 'i' was iterated over a range instead of sqrt(x) and then having to define rules for numbers 2 and 3. I think this would make the code has less steps per iteration.\n",
    "\n",
    "#### Rating\n",
    "    90/100 (Code works perfectly fine)"
   ]
  },
  {
   "cell_type": "code",
   "execution_count": 0,
   "metadata": {
    "collapsed": false
   },
   "outputs": [
   ],
   "source": [
   ]
  }
 ],
 "metadata": {
  "kernelspec": {
   "display_name": "Python 3 (Anaconda 5)",
   "language": "python",
   "name": "anaconda5"
  },
  "language_info": {
   "codemirror_mode": {
    "name": "ipython",
    "version": 3
   },
   "file_extension": ".py",
   "mimetype": "text/x-python",
   "name": "python",
   "nbconvert_exporter": "python",
   "pygments_lexer": "ipython3",
   "version": "3.6.5"
  }
 },
 "nbformat": 4,
 "nbformat_minor": 0
}