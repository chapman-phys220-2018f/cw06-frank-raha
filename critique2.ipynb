{
 "cells": [
  {
   "cell_type": "markdown",
   "metadata": {
    "collapsed": false
   },
   "source": [
    "### Frank's cw4 ###\n",
    "The code is very organized and the varibles are clearly labeled. The code works and passes Travis. I can easily follow the code line by line and the comments help. The functions are very clear so there is nothing I would suggest to improve on. \n",
    "\n",
    "### Rating ###\n",
    "95/100\n"
   ]
  }
 ],
 "metadata": {
  "kernelspec": {
   "display_name": "Python 3 (Anaconda 5)",
   "language": "python",
   "name": "anaconda5"
  }
 },
 "nbformat": 4,
 "nbformat_minor": 0
}